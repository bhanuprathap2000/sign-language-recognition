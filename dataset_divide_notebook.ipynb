{
 "cells": [
  {
   "cell_type": "code",
   "execution_count": 1,
   "metadata": {},
   "outputs": [],
   "source": [
    "import pandas as pd"
   ]
  },
  {
   "cell_type": "code",
   "execution_count": 2,
   "metadata": {},
   "outputs": [],
   "source": [
    "include_50=pd.read_csv(r'D:\\final year project\\dataset\\Train_Test_Split\\train_include50.csv')"
   ]
  },
  {
   "cell_type": "code",
   "execution_count": 3,
   "metadata": {},
   "outputs": [
    {
     "data": {
      "text/html": [
       "<div>\n",
       "<style scoped>\n",
       "    .dataframe tbody tr th:only-of-type {\n",
       "        vertical-align: middle;\n",
       "    }\n",
       "\n",
       "    .dataframe tbody tr th {\n",
       "        vertical-align: top;\n",
       "    }\n",
       "\n",
       "    .dataframe thead th {\n",
       "        text-align: right;\n",
       "    }\n",
       "</style>\n",
       "<table border=\"1\" class=\"dataframe\">\n",
       "  <thead>\n",
       "    <tr style=\"text-align: right;\">\n",
       "      <th></th>\n",
       "      <th>Category</th>\n",
       "      <th>Word</th>\n",
       "      <th>Video</th>\n",
       "      <th>FilePath</th>\n",
       "    </tr>\n",
       "  </thead>\n",
       "  <tbody>\n",
       "    <tr>\n",
       "      <th>0</th>\n",
       "      <td>Animals</td>\n",
       "      <td>4.Bird</td>\n",
       "      <td>MVI_2987.MOV</td>\n",
       "      <td>Animals/4. Bird/MVI_2987.MOV</td>\n",
       "    </tr>\n",
       "    <tr>\n",
       "      <th>1</th>\n",
       "      <td>Animals</td>\n",
       "      <td>4.Bird</td>\n",
       "      <td>MVI_3094.MOV</td>\n",
       "      <td>Animals/4. Bird/MVI_3094.MOV</td>\n",
       "    </tr>\n",
       "    <tr>\n",
       "      <th>2</th>\n",
       "      <td>Animals</td>\n",
       "      <td>4.Bird</td>\n",
       "      <td>MVI_3095.MOV</td>\n",
       "      <td>Animals/4. Bird/MVI_3095.MOV</td>\n",
       "    </tr>\n",
       "    <tr>\n",
       "      <th>3</th>\n",
       "      <td>Animals</td>\n",
       "      <td>4.Bird</td>\n",
       "      <td>MVI_8567.MP4</td>\n",
       "      <td>Animals/4. Bird/MVI_8567.MP4</td>\n",
       "    </tr>\n",
       "    <tr>\n",
       "      <th>4</th>\n",
       "      <td>Animals</td>\n",
       "      <td>4.Bird</td>\n",
       "      <td>MVI_3040.MOV</td>\n",
       "      <td>Animals/4. Bird/MVI_3040.MOV</td>\n",
       "    </tr>\n",
       "    <tr>\n",
       "      <th>...</th>\n",
       "      <td>...</td>\n",
       "      <td>...</td>\n",
       "      <td>...</td>\n",
       "      <td>...</td>\n",
       "    </tr>\n",
       "    <tr>\n",
       "      <th>761</th>\n",
       "      <td>Society</td>\n",
       "      <td>2.Death</td>\n",
       "      <td>MVI_8663.MP4</td>\n",
       "      <td>Society/2. Death/MVI_8663.MP4</td>\n",
       "    </tr>\n",
       "    <tr>\n",
       "      <th>762</th>\n",
       "      <td>Society</td>\n",
       "      <td>2.Death</td>\n",
       "      <td>MVI_8930.MP4</td>\n",
       "      <td>Society/2. Death/MVI_8930.MP4</td>\n",
       "    </tr>\n",
       "    <tr>\n",
       "      <th>763</th>\n",
       "      <td>Society</td>\n",
       "      <td>2.Death</td>\n",
       "      <td>MVI_8664.MP4</td>\n",
       "      <td>Society/2. Death/MVI_8664.MP4</td>\n",
       "    </tr>\n",
       "    <tr>\n",
       "      <th>764</th>\n",
       "      <td>Society</td>\n",
       "      <td>2.Death</td>\n",
       "      <td>MVI_4802.MOV</td>\n",
       "      <td>Society/2. Death/MVI_4802.MOV</td>\n",
       "    </tr>\n",
       "    <tr>\n",
       "      <th>765</th>\n",
       "      <td>Society</td>\n",
       "      <td>2.Death</td>\n",
       "      <td>MVI_4257.MOV</td>\n",
       "      <td>Society/2. Death/MVI_4257.MOV</td>\n",
       "    </tr>\n",
       "  </tbody>\n",
       "</table>\n",
       "<p>766 rows × 4 columns</p>\n",
       "</div>"
      ],
      "text/plain": [
       "    Category     Word         Video                       FilePath\n",
       "0    Animals   4.Bird  MVI_2987.MOV   Animals/4. Bird/MVI_2987.MOV\n",
       "1    Animals   4.Bird  MVI_3094.MOV   Animals/4. Bird/MVI_3094.MOV\n",
       "2    Animals   4.Bird  MVI_3095.MOV   Animals/4. Bird/MVI_3095.MOV\n",
       "3    Animals   4.Bird  MVI_8567.MP4   Animals/4. Bird/MVI_8567.MP4\n",
       "4    Animals   4.Bird  MVI_3040.MOV   Animals/4. Bird/MVI_3040.MOV\n",
       "..       ...      ...           ...                            ...\n",
       "761  Society  2.Death  MVI_8663.MP4  Society/2. Death/MVI_8663.MP4\n",
       "762  Society  2.Death  MVI_8930.MP4  Society/2. Death/MVI_8930.MP4\n",
       "763  Society  2.Death  MVI_8664.MP4  Society/2. Death/MVI_8664.MP4\n",
       "764  Society  2.Death  MVI_4802.MOV  Society/2. Death/MVI_4802.MOV\n",
       "765  Society  2.Death  MVI_4257.MOV  Society/2. Death/MVI_4257.MOV\n",
       "\n",
       "[766 rows x 4 columns]"
      ]
     },
     "execution_count": 3,
     "metadata": {},
     "output_type": "execute_result"
    }
   ],
   "source": [
    "include_50"
   ]
  },
  {
   "cell_type": "code",
   "execution_count": null,
   "metadata": {},
   "outputs": [],
   "source": []
  }
 ],
 "metadata": {
  "interpreter": {
   "hash": "b599a82613ad9c29e0b4f1d5d1fe99806ea46ed7c1a345ccadc17c7814fd6b47"
  },
  "kernelspec": {
   "display_name": "Python 3.9.5 64-bit ('backend-0SVo5WGO': pipenv)",
   "language": "python",
   "name": "python3"
  },
  "language_info": {
   "codemirror_mode": {
    "name": "ipython",
    "version": 3
   },
   "file_extension": ".py",
   "mimetype": "text/x-python",
   "name": "python",
   "nbconvert_exporter": "python",
   "pygments_lexer": "ipython3",
   "version": "3.9.5"
  },
  "orig_nbformat": 4
 },
 "nbformat": 4,
 "nbformat_minor": 2
}
