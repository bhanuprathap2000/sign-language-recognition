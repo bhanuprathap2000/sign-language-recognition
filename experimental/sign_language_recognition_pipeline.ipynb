{
 "cells": [
  {
   "cell_type": "code",
   "execution_count": 1,
   "metadata": {},
   "outputs": [],
   "source": [
    "import cv2\n",
    "import pandas as pd\n",
    "import numpy as np\n",
    "import mediapipe as mp\n",
    "import os\n",
    "import sys"
   ]
  },
  {
   "cell_type": "code",
   "execution_count": 2,
   "metadata": {},
   "outputs": [
    {
     "name": "stdout",
     "output_type": "stream",
     "text": [
      "    Category      Word         Video                        FilePath\n",
      "0    Animals    4.Bird  MVI_2988.MOV    Animals/4. Bird/MVI_2988.MOV\n",
      "1    Colours  54.Black  MVI_4920.MOV  Colours/54. Black/MVI_4920.MOV\n",
      "2    Colours  54.Black  MVI_3740.MOV  Colours/54. Black/MVI_3740.MOV\n",
      "3    Colours  54.Black  MVI_3742.MOV  Colours/54. Black/MVI_3742.MOV\n",
      "4    Colours  54.Black  MVI_5207.MOV  Colours/54. Black/MVI_5207.MOV\n",
      "..       ...       ...           ...                             ...\n",
      "187  Society   2.Death  MVI_8931.MP4   Society/2. Death/MVI_8931.MP4\n",
      "188  Society   2.Death  MVI_4801.MOV   Society/2. Death/MVI_4801.MOV\n",
      "189  Society   2.Death  MVI_4800.MOV   Society/2. Death/MVI_4800.MOV\n",
      "190  Society   2.Death  MVI_4255.MOV   Society/2. Death/MVI_4255.MOV\n",
      "191  Society   2.Death  MVI_4256.MOV   Society/2. Death/MVI_4256.MOV\n",
      "\n",
      "[192 rows x 4 columns]\n"
     ]
    }
   ],
   "source": [
    "include_50=pd.read_csv(r'D:/final year project/Train_Test_Split/test_include50.csv')\n",
    "key_points_path=r\"D:/final year project/sign-language-recognition/key_points/\"\n",
    "print(include_50)"
   ]
  },
  {
   "cell_type": "code",
   "execution_count": 3,
   "metadata": {},
   "outputs": [],
   "source": [
    "labels_list=list(include_50.groupby(\"Word\").count().index)"
   ]
  },
  {
   "cell_type": "code",
   "execution_count": 4,
   "metadata": {},
   "outputs": [
    {
     "data": {
      "text/plain": [
       "['1.Dog',\n",
       " '1.loud',\n",
       " '11.Car',\n",
       " '14.Election',\n",
       " '16.trainticket',\n",
       " '19.House',\n",
       " '2.Death',\n",
       " '2.quiet',\n",
       " '23.Court',\n",
       " '28.StoreorShop',\n",
       " '28.Window',\n",
       " '3.happy',\n",
       " '34.Pen',\n",
       " '35.Bank',\n",
       " '37.Hat',\n",
       " '4.Bird',\n",
       " '40.I',\n",
       " '40.Paint',\n",
       " '42.T-Shirt',\n",
       " '44.Shoes',\n",
       " '44.it',\n",
       " '46.you(plural)',\n",
       " '47.Red',\n",
       " '48.Hello',\n",
       " '5.Cow',\n",
       " '51.GoodMorning',\n",
       " '53.Fan',\n",
       " '54.Black',\n",
       " '54.Cellphone',\n",
       " '55.Thankyou',\n",
       " '55.White',\n",
       " '61.Father',\n",
       " '61.Summer',\n",
       " '64.Fall',\n",
       " '66.Brother',\n",
       " '67.Monday',\n",
       " '77.Boy',\n",
       " '78.Girl',\n",
       " '78.Year',\n",
       " '78.long',\n",
       " '79.short',\n",
       " '83.biglarge',\n",
       " '84.Teacher',\n",
       " '84.smalllittle',\n",
       " '86.Time',\n",
       " '87.hot',\n",
       " '91.Priest',\n",
       " '91.new',\n",
       " '94.good']"
      ]
     },
     "execution_count": 4,
     "metadata": {},
     "output_type": "execute_result"
    }
   ],
   "source": [
    "labels_list"
   ]
  },
  {
   "cell_type": "code",
   "execution_count": 5,
   "metadata": {},
   "outputs": [],
   "source": [
    "actions=list(map(lambda x:x.split(\".\")[1],labels_list))"
   ]
  },
  {
   "cell_type": "code",
   "execution_count": 6,
   "metadata": {},
   "outputs": [
    {
     "data": {
      "text/plain": [
       "['Dog',\n",
       " 'loud',\n",
       " 'Car',\n",
       " 'Election',\n",
       " 'trainticket',\n",
       " 'House',\n",
       " 'Death',\n",
       " 'quiet',\n",
       " 'Court',\n",
       " 'StoreorShop',\n",
       " 'Window',\n",
       " 'happy',\n",
       " 'Pen',\n",
       " 'Bank',\n",
       " 'Hat',\n",
       " 'Bird',\n",
       " 'I',\n",
       " 'Paint',\n",
       " 'T-Shirt',\n",
       " 'Shoes',\n",
       " 'it',\n",
       " 'you(plural)',\n",
       " 'Red',\n",
       " 'Hello',\n",
       " 'Cow',\n",
       " 'GoodMorning',\n",
       " 'Fan',\n",
       " 'Black',\n",
       " 'Cellphone',\n",
       " 'Thankyou',\n",
       " 'White',\n",
       " 'Father',\n",
       " 'Summer',\n",
       " 'Fall',\n",
       " 'Brother',\n",
       " 'Monday',\n",
       " 'Boy',\n",
       " 'Girl',\n",
       " 'Year',\n",
       " 'long',\n",
       " 'short',\n",
       " 'biglarge',\n",
       " 'Teacher',\n",
       " 'smalllittle',\n",
       " 'Time',\n",
       " 'hot',\n",
       " 'Priest',\n",
       " 'new',\n",
       " 'good']"
      ]
     },
     "execution_count": 6,
     "metadata": {},
     "output_type": "execute_result"
    }
   ],
   "source": [
    "actions"
   ]
  },
  {
   "cell_type": "code",
   "execution_count": 7,
   "metadata": {},
   "outputs": [],
   "source": [
    "label_map = {label:num for num, label in enumerate(actions)}\n"
   ]
  },
  {
   "cell_type": "code",
   "execution_count": 8,
   "metadata": {},
   "outputs": [
    {
     "data": {
      "text/plain": [
       "{'Dog': 0,\n",
       " 'loud': 1,\n",
       " 'Car': 2,\n",
       " 'Election': 3,\n",
       " 'trainticket': 4,\n",
       " 'House': 5,\n",
       " 'Death': 6,\n",
       " 'quiet': 7,\n",
       " 'Court': 8,\n",
       " 'StoreorShop': 9,\n",
       " 'Window': 10,\n",
       " 'happy': 11,\n",
       " 'Pen': 12,\n",
       " 'Bank': 13,\n",
       " 'Hat': 14,\n",
       " 'Bird': 15,\n",
       " 'I': 16,\n",
       " 'Paint': 17,\n",
       " 'T-Shirt': 18,\n",
       " 'Shoes': 19,\n",
       " 'it': 20,\n",
       " 'you(plural)': 21,\n",
       " 'Red': 22,\n",
       " 'Hello': 23,\n",
       " 'Cow': 24,\n",
       " 'GoodMorning': 25,\n",
       " 'Fan': 26,\n",
       " 'Black': 27,\n",
       " 'Cellphone': 28,\n",
       " 'Thankyou': 29,\n",
       " 'White': 30,\n",
       " 'Father': 31,\n",
       " 'Summer': 32,\n",
       " 'Fall': 33,\n",
       " 'Brother': 34,\n",
       " 'Monday': 35,\n",
       " 'Boy': 36,\n",
       " 'Girl': 37,\n",
       " 'Year': 38,\n",
       " 'long': 39,\n",
       " 'short': 40,\n",
       " 'biglarge': 41,\n",
       " 'Teacher': 42,\n",
       " 'smalllittle': 43,\n",
       " 'Time': 44,\n",
       " 'hot': 45,\n",
       " 'Priest': 46,\n",
       " 'new': 47,\n",
       " 'good': 48}"
      ]
     },
     "execution_count": 8,
     "metadata": {},
     "output_type": "execute_result"
    }
   ],
   "source": [
    "label_map"
   ]
  },
  {
   "cell_type": "code",
   "execution_count": 9,
   "metadata": {},
   "outputs": [],
   "source": [
    "def count_files(dir):\n",
    "    return len([1 for x in list(os.scandir(dir)) if x.is_file()])"
   ]
  },
  {
   "cell_type": "code",
   "execution_count": 10,
   "metadata": {},
   "outputs": [
    {
     "name": "stdout",
     "output_type": "stream",
     "text": [
      "Bird\n",
      "Black\n",
      "Black\n",
      "Black\n",
      "Black\n",
      "Black\n",
      "Car\n",
      "Car\n",
      "Car\n",
      "Car\n",
      "Dog\n",
      "Dog\n",
      "Dog\n",
      "Dog\n",
      "Dog\n",
      "Dog\n",
      "Dog\n",
      "Fall\n",
      "Fall\n",
      "Fall\n",
      "Father\n",
      "Father\n",
      "GoodMorning\n",
      "GoodMorning\n",
      "GoodMorning\n",
      "GoodMorning\n",
      "Red\n",
      "Red\n",
      "Summer\n",
      "Summer\n",
      "Summer\n",
      "White\n",
      "loud\n",
      "loud\n",
      "loud\n",
      "loud\n",
      "loud\n",
      "loud\n",
      "quiet\n",
      "quiet\n",
      "quiet\n",
      "happy\n",
      "happy\n",
      "happy\n",
      "long\n",
      "long\n",
      "long\n",
      "long\n",
      "long\n",
      "long\n",
      "short\n",
      "short\n",
      "short\n",
      "short\n",
      "short\n",
      "short\n",
      "biglarge\n",
      "biglarge\n",
      "biglarge\n",
      "biglarge\n",
      "smalllittle\n",
      "smalllittle\n",
      "smalllittle\n",
      "smalllittle\n",
      "hot\n",
      "hot\n",
      "hot\n",
      "hot\n",
      "hot\n",
      "hot\n",
      "new\n",
      "new\n",
      "new\n",
      "good\n",
      "good\n",
      "good\n",
      "Cow\n",
      "Cow\n",
      "Cow\n",
      "Hat\n",
      "Hat\n",
      "Hat\n",
      "Hat\n",
      "Hat\n",
      "Hat\n",
      "T-Shirt\n",
      "T-Shirt\n",
      "T-Shirt\n",
      "Shoes\n",
      "Shoes\n",
      "Shoes\n",
      "Shoes\n",
      "Monday\n",
      "Monday\n",
      "Year\n",
      "Year\n",
      "Year\n",
      "Year\n",
      "Year\n",
      "Year\n",
      "Year\n",
      "Time\n",
      "Time\n",
      "Time\n",
      "Fan\n",
      "Fan\n",
      "Fan\n",
      "Cellphone\n",
      "Cellphone\n",
      "Cellphone\n",
      "Cellphone\n",
      "Hello\n",
      "Hello\n",
      "Hello\n",
      "Hello\n",
      "Hello\n",
      "Hello\n",
      "Hello\n",
      "Thankyou\n",
      "Thankyou\n",
      "Thankyou\n",
      "Thankyou\n",
      "Thankyou\n",
      "Thankyou\n",
      "Thankyou\n",
      "Window\n",
      "Window\n",
      "Window\n",
      "Pen\n",
      "Pen\n",
      "Paint\n",
      "Paint\n",
      "Paint\n",
      "Teacher\n",
      "Teacher\n",
      "Teacher\n",
      "Priest\n",
      "trainticket\n",
      "trainticket\n",
      "trainticket\n",
      "trainticket\n",
      "trainticket\n",
      "trainticket\n",
      "trainticket\n",
      "trainticket\n",
      "Brother\n",
      "Brother\n",
      "Brother\n",
      "Brother\n",
      "Brother\n",
      "Boy\n",
      "Boy\n",
      "Boy\n",
      "Boy\n",
      "Girl\n",
      "Girl\n",
      "Court\n",
      "Court\n",
      "Court\n",
      "House\n",
      "StoreorShop\n",
      "StoreorShop\n",
      "StoreorShop\n",
      "StoreorShop\n",
      "Bank\n",
      "Bank\n",
      "Bank\n",
      "Bank\n",
      "Bank\n",
      "Bank\n",
      "I\n",
      "I\n",
      "I\n",
      "it\n",
      "it\n",
      "it\n",
      "it\n",
      "it\n",
      "it\n",
      "it\n",
      "it\n",
      "it\n",
      "you(plural)\n",
      "you(plural)\n",
      "you(plural)\n",
      "Election\n",
      "Election\n",
      "Death\n",
      "Death\n",
      "Death\n",
      "Death\n",
      "Death\n"
     ]
    }
   ],
   "source": [
    "sequences, labels = [], []\n",
    "for Category, Word,Video,FilePath in include_50.values:\n",
    "    file_path=os.path.join(r\"D:/final year project/sign-language-recognition/experimental/key_points_test/\",FilePath[:-4]+\"/\")\n",
    "    window = []\n",
    "    sequence_length=count_files(file_path)\n",
    "    for frame_num in range(1,sequence_length+1):\n",
    "        res = np.load(os.path.join(file_path, \"{}.npy\".format(frame_num)))\n",
    "        window.append(res)\n",
    "    print(Word.split(\".\")[1])\n",
    "    sequences.append(np.array(window))\n",
    "    labels.append(label_map[Word.split(\".\")[1]])\n",
    "    \n"
   ]
  },
  {
   "cell_type": "code",
   "execution_count": 11,
   "metadata": {},
   "outputs": [
    {
     "data": {
      "text/plain": [
       "(83, 1662)"
      ]
     },
     "execution_count": 11,
     "metadata": {},
     "output_type": "execute_result"
    }
   ],
   "source": [
    "sequences[0].shape"
   ]
  },
  {
   "cell_type": "code",
   "execution_count": 12,
   "metadata": {},
   "outputs": [
    {
     "name": "stdout",
     "output_type": "stream",
     "text": [
      "(192,)\n",
      "(192,)\n"
     ]
    }
   ],
   "source": [
    "print(np.array(sequences,dtype=\"object\").shape)\n",
    "print(np.array(labels).shape)"
   ]
  },
  {
   "cell_type": "code",
   "execution_count": null,
   "metadata": {},
   "outputs": [],
   "source": []
  },
  {
   "cell_type": "code",
   "execution_count": 13,
   "metadata": {},
   "outputs": [
    {
     "data": {
      "text/plain": [
       "[15,\n",
       " 27,\n",
       " 27,\n",
       " 27,\n",
       " 27,\n",
       " 27,\n",
       " 2,\n",
       " 2,\n",
       " 2,\n",
       " 2,\n",
       " 0,\n",
       " 0,\n",
       " 0,\n",
       " 0,\n",
       " 0,\n",
       " 0,\n",
       " 0,\n",
       " 33,\n",
       " 33,\n",
       " 33,\n",
       " 31,\n",
       " 31,\n",
       " 25,\n",
       " 25,\n",
       " 25,\n",
       " 25,\n",
       " 22,\n",
       " 22,\n",
       " 32,\n",
       " 32,\n",
       " 32,\n",
       " 30,\n",
       " 1,\n",
       " 1,\n",
       " 1,\n",
       " 1,\n",
       " 1,\n",
       " 1,\n",
       " 7,\n",
       " 7,\n",
       " 7,\n",
       " 11,\n",
       " 11,\n",
       " 11,\n",
       " 39,\n",
       " 39,\n",
       " 39,\n",
       " 39,\n",
       " 39,\n",
       " 39,\n",
       " 40,\n",
       " 40,\n",
       " 40,\n",
       " 40,\n",
       " 40,\n",
       " 40,\n",
       " 41,\n",
       " 41,\n",
       " 41,\n",
       " 41,\n",
       " 43,\n",
       " 43,\n",
       " 43,\n",
       " 43,\n",
       " 45,\n",
       " 45,\n",
       " 45,\n",
       " 45,\n",
       " 45,\n",
       " 45,\n",
       " 47,\n",
       " 47,\n",
       " 47,\n",
       " 48,\n",
       " 48,\n",
       " 48,\n",
       " 24,\n",
       " 24,\n",
       " 24,\n",
       " 14,\n",
       " 14,\n",
       " 14,\n",
       " 14,\n",
       " 14,\n",
       " 14,\n",
       " 18,\n",
       " 18,\n",
       " 18,\n",
       " 19,\n",
       " 19,\n",
       " 19,\n",
       " 19,\n",
       " 35,\n",
       " 35,\n",
       " 38,\n",
       " 38,\n",
       " 38,\n",
       " 38,\n",
       " 38,\n",
       " 38,\n",
       " 38,\n",
       " 44,\n",
       " 44,\n",
       " 44,\n",
       " 26,\n",
       " 26,\n",
       " 26,\n",
       " 28,\n",
       " 28,\n",
       " 28,\n",
       " 28,\n",
       " 23,\n",
       " 23,\n",
       " 23,\n",
       " 23,\n",
       " 23,\n",
       " 23,\n",
       " 23,\n",
       " 29,\n",
       " 29,\n",
       " 29,\n",
       " 29,\n",
       " 29,\n",
       " 29,\n",
       " 29,\n",
       " 10,\n",
       " 10,\n",
       " 10,\n",
       " 12,\n",
       " 12,\n",
       " 17,\n",
       " 17,\n",
       " 17,\n",
       " 42,\n",
       " 42,\n",
       " 42,\n",
       " 46,\n",
       " 4,\n",
       " 4,\n",
       " 4,\n",
       " 4,\n",
       " 4,\n",
       " 4,\n",
       " 4,\n",
       " 4,\n",
       " 34,\n",
       " 34,\n",
       " 34,\n",
       " 34,\n",
       " 34,\n",
       " 36,\n",
       " 36,\n",
       " 36,\n",
       " 36,\n",
       " 37,\n",
       " 37,\n",
       " 8,\n",
       " 8,\n",
       " 8,\n",
       " 5,\n",
       " 9,\n",
       " 9,\n",
       " 9,\n",
       " 9,\n",
       " 13,\n",
       " 13,\n",
       " 13,\n",
       " 13,\n",
       " 13,\n",
       " 13,\n",
       " 16,\n",
       " 16,\n",
       " 16,\n",
       " 20,\n",
       " 20,\n",
       " 20,\n",
       " 20,\n",
       " 20,\n",
       " 20,\n",
       " 20,\n",
       " 20,\n",
       " 20,\n",
       " 21,\n",
       " 21,\n",
       " 21,\n",
       " 3,\n",
       " 3,\n",
       " 6,\n",
       " 6,\n",
       " 6,\n",
       " 6,\n",
       " 6]"
      ]
     },
     "execution_count": 13,
     "metadata": {},
     "output_type": "execute_result"
    }
   ],
   "source": [
    "labels"
   ]
  },
  {
   "cell_type": "code",
   "execution_count": 14,
   "metadata": {},
   "outputs": [],
   "source": [
    "X = np.array(sequences, dtype=object)\n",
    "X = np.asarray(X).astype(object)\n"
   ]
  },
  {
   "cell_type": "code",
   "execution_count": 15,
   "metadata": {},
   "outputs": [
    {
     "data": {
      "text/plain": [
       "(192,)"
      ]
     },
     "execution_count": 15,
     "metadata": {},
     "output_type": "execute_result"
    }
   ],
   "source": [
    "X.shape"
   ]
  },
  {
   "cell_type": "code",
   "execution_count": 16,
   "metadata": {},
   "outputs": [
    {
     "data": {
      "text/plain": [
       "(192,)"
      ]
     },
     "execution_count": 16,
     "metadata": {},
     "output_type": "execute_result"
    }
   ],
   "source": [
    "X.shape"
   ]
  },
  {
   "cell_type": "code",
   "execution_count": 17,
   "metadata": {},
   "outputs": [
    {
     "data": {
      "text/plain": [
       "(192,)"
      ]
     },
     "execution_count": 17,
     "metadata": {},
     "output_type": "execute_result"
    }
   ],
   "source": [
    "X.shape"
   ]
  },
  {
   "cell_type": "code",
   "execution_count": 18,
   "metadata": {},
   "outputs": [],
   "source": [
    "from sklearn.model_selection import train_test_split\n",
    "from tensorflow.keras.utils import to_categorical"
   ]
  },
  {
   "cell_type": "code",
   "execution_count": 19,
   "metadata": {},
   "outputs": [],
   "source": [
    "import tensorflow as tf"
   ]
  },
  {
   "cell_type": "code",
   "execution_count": 20,
   "metadata": {},
   "outputs": [],
   "source": [
    "y = to_categorical(labels).astype(int)\n"
   ]
  },
  {
   "cell_type": "code",
   "execution_count": 21,
   "metadata": {},
   "outputs": [],
   "source": [
    "X_train, X_test, y_train, y_test = train_test_split(X, y, test_size=0.05)\n",
    "\n"
   ]
  },
  {
   "cell_type": "code",
   "execution_count": 22,
   "metadata": {},
   "outputs": [
    {
     "data": {
      "text/plain": [
       "(10, 49)"
      ]
     },
     "execution_count": 22,
     "metadata": {},
     "output_type": "execute_result"
    }
   ],
   "source": [
    "y_test.shape\n"
   ]
  },
  {
   "cell_type": "code",
   "execution_count": 23,
   "metadata": {},
   "outputs": [],
   "source": [
    "from tensorflow.keras.models import Sequential\n",
    "from tensorflow.keras.layers import LSTM, Dense\n",
    "from tensorflow.keras.callbacks import TensorBoard"
   ]
  },
  {
   "cell_type": "code",
   "execution_count": 24,
   "metadata": {},
   "outputs": [],
   "source": [
    "log_dir = os.path.join('Logs')\n",
    "tb_callback = TensorBoard(log_dir=log_dir)"
   ]
  },
  {
   "cell_type": "code",
   "execution_count": 25,
   "metadata": {},
   "outputs": [
    {
     "data": {
      "text/plain": [
       "['Dog',\n",
       " 'loud',\n",
       " 'Car',\n",
       " 'Election',\n",
       " 'trainticket',\n",
       " 'House',\n",
       " 'Death',\n",
       " 'quiet',\n",
       " 'Court',\n",
       " 'StoreorShop',\n",
       " 'Window',\n",
       " 'happy',\n",
       " 'Pen',\n",
       " 'Bank',\n",
       " 'Hat',\n",
       " 'Bird',\n",
       " 'I',\n",
       " 'Paint',\n",
       " 'T-Shirt',\n",
       " 'Shoes',\n",
       " 'it',\n",
       " 'you(plural)',\n",
       " 'Red',\n",
       " 'Hello',\n",
       " 'Cow',\n",
       " 'GoodMorning',\n",
       " 'Fan',\n",
       " 'Black',\n",
       " 'Cellphone',\n",
       " 'Thankyou',\n",
       " 'White',\n",
       " 'Father',\n",
       " 'Summer',\n",
       " 'Fall',\n",
       " 'Brother',\n",
       " 'Monday',\n",
       " 'Boy',\n",
       " 'Girl',\n",
       " 'Year',\n",
       " 'long',\n",
       " 'short',\n",
       " 'biglarge',\n",
       " 'Teacher',\n",
       " 'smalllittle',\n",
       " 'Time',\n",
       " 'hot',\n",
       " 'Priest',\n",
       " 'new',\n",
       " 'good']"
      ]
     },
     "execution_count": 25,
     "metadata": {},
     "output_type": "execute_result"
    }
   ],
   "source": [
    "actions"
   ]
  },
  {
   "cell_type": "code",
   "execution_count": 28,
   "metadata": {},
   "outputs": [
    {
     "ename": "ValueError",
     "evalue": "Input 0 of layer \"lstm\" is incompatible with the layer: expected ndim=3, found ndim=2. Full shape received: (None, None)",
     "output_type": "error",
     "traceback": [
      "\u001b[1;31m---------------------------------------------------------------------------\u001b[0m",
      "\u001b[1;31mValueError\u001b[0m                                Traceback (most recent call last)",
      "\u001b[1;32m~\\AppData\\Local\\Temp/ipykernel_23580/1322962541.py\u001b[0m in \u001b[0;36m<module>\u001b[1;34m\u001b[0m\n\u001b[0;32m      1\u001b[0m \u001b[0mmodel\u001b[0m \u001b[1;33m=\u001b[0m \u001b[0mSequential\u001b[0m\u001b[1;33m(\u001b[0m\u001b[1;33m)\u001b[0m\u001b[1;33m\u001b[0m\u001b[1;33m\u001b[0m\u001b[0m\n\u001b[0;32m      2\u001b[0m \u001b[0mmodel\u001b[0m\u001b[1;33m.\u001b[0m\u001b[0madd\u001b[0m\u001b[1;33m(\u001b[0m\u001b[0mtf\u001b[0m\u001b[1;33m.\u001b[0m\u001b[0mkeras\u001b[0m\u001b[1;33m.\u001b[0m\u001b[0mlayers\u001b[0m\u001b[1;33m.\u001b[0m\u001b[0mInput\u001b[0m\u001b[1;33m(\u001b[0m\u001b[0mshape\u001b[0m\u001b[1;33m=\u001b[0m\u001b[1;33m[\u001b[0m\u001b[1;32mNone\u001b[0m\u001b[1;33m]\u001b[0m\u001b[1;33m,\u001b[0m \u001b[0mdtype\u001b[0m\u001b[1;33m=\u001b[0m\u001b[0mtf\u001b[0m\u001b[1;33m.\u001b[0m\u001b[0mint64\u001b[0m\u001b[1;33m,\u001b[0m \u001b[0mragged\u001b[0m\u001b[1;33m=\u001b[0m\u001b[1;32mTrue\u001b[0m\u001b[1;33m)\u001b[0m\u001b[1;33m)\u001b[0m\u001b[1;33m\u001b[0m\u001b[1;33m\u001b[0m\u001b[0m\n\u001b[1;32m----> 3\u001b[1;33m \u001b[0mmodel\u001b[0m\u001b[1;33m.\u001b[0m\u001b[0madd\u001b[0m\u001b[1;33m(\u001b[0m\u001b[0mLSTM\u001b[0m\u001b[1;33m(\u001b[0m\u001b[1;36m64\u001b[0m\u001b[1;33m,\u001b[0m \u001b[0mreturn_sequences\u001b[0m\u001b[1;33m=\u001b[0m\u001b[1;32mTrue\u001b[0m\u001b[1;33m,\u001b[0m \u001b[0mactivation\u001b[0m\u001b[1;33m=\u001b[0m\u001b[1;34m'relu'\u001b[0m\u001b[1;33m)\u001b[0m\u001b[1;33m)\u001b[0m\u001b[1;33m\u001b[0m\u001b[1;33m\u001b[0m\u001b[0m\n\u001b[0m\u001b[0;32m      4\u001b[0m \u001b[0mmodel\u001b[0m\u001b[1;33m.\u001b[0m\u001b[0madd\u001b[0m\u001b[1;33m(\u001b[0m\u001b[0mLSTM\u001b[0m\u001b[1;33m(\u001b[0m\u001b[1;36m128\u001b[0m\u001b[1;33m,\u001b[0m \u001b[0mreturn_sequences\u001b[0m\u001b[1;33m=\u001b[0m\u001b[1;32mTrue\u001b[0m\u001b[1;33m,\u001b[0m \u001b[0mactivation\u001b[0m\u001b[1;33m=\u001b[0m\u001b[1;34m'relu'\u001b[0m\u001b[1;33m)\u001b[0m\u001b[1;33m)\u001b[0m\u001b[1;33m\u001b[0m\u001b[1;33m\u001b[0m\u001b[0m\n\u001b[0;32m      5\u001b[0m \u001b[0mmodel\u001b[0m\u001b[1;33m.\u001b[0m\u001b[0madd\u001b[0m\u001b[1;33m(\u001b[0m\u001b[0mLSTM\u001b[0m\u001b[1;33m(\u001b[0m\u001b[1;36m64\u001b[0m\u001b[1;33m,\u001b[0m \u001b[0mreturn_sequences\u001b[0m\u001b[1;33m=\u001b[0m\u001b[1;32mFalse\u001b[0m\u001b[1;33m,\u001b[0m \u001b[0mactivation\u001b[0m\u001b[1;33m=\u001b[0m\u001b[1;34m'relu'\u001b[0m\u001b[1;33m)\u001b[0m\u001b[1;33m)\u001b[0m\u001b[1;33m\u001b[0m\u001b[1;33m\u001b[0m\u001b[0m\n",
      "\u001b[1;32m~\\.virtualenvs\\sign-language-recognition-yDKllbWB\\lib\\site-packages\\tensorflow\\python\\training\\tracking\\base.py\u001b[0m in \u001b[0;36m_method_wrapper\u001b[1;34m(self, *args, **kwargs)\u001b[0m\n\u001b[0;32m    528\u001b[0m     \u001b[0mself\u001b[0m\u001b[1;33m.\u001b[0m\u001b[0m_self_setattr_tracking\u001b[0m \u001b[1;33m=\u001b[0m \u001b[1;32mFalse\u001b[0m  \u001b[1;31m# pylint: disable=protected-access\u001b[0m\u001b[1;33m\u001b[0m\u001b[1;33m\u001b[0m\u001b[0m\n\u001b[0;32m    529\u001b[0m     \u001b[1;32mtry\u001b[0m\u001b[1;33m:\u001b[0m\u001b[1;33m\u001b[0m\u001b[1;33m\u001b[0m\u001b[0m\n\u001b[1;32m--> 530\u001b[1;33m       \u001b[0mresult\u001b[0m \u001b[1;33m=\u001b[0m \u001b[0mmethod\u001b[0m\u001b[1;33m(\u001b[0m\u001b[0mself\u001b[0m\u001b[1;33m,\u001b[0m \u001b[1;33m*\u001b[0m\u001b[0margs\u001b[0m\u001b[1;33m,\u001b[0m \u001b[1;33m**\u001b[0m\u001b[0mkwargs\u001b[0m\u001b[1;33m)\u001b[0m\u001b[1;33m\u001b[0m\u001b[1;33m\u001b[0m\u001b[0m\n\u001b[0m\u001b[0;32m    531\u001b[0m     \u001b[1;32mfinally\u001b[0m\u001b[1;33m:\u001b[0m\u001b[1;33m\u001b[0m\u001b[1;33m\u001b[0m\u001b[0m\n\u001b[0;32m    532\u001b[0m       \u001b[0mself\u001b[0m\u001b[1;33m.\u001b[0m\u001b[0m_self_setattr_tracking\u001b[0m \u001b[1;33m=\u001b[0m \u001b[0mprevious_value\u001b[0m  \u001b[1;31m# pylint: disable=protected-access\u001b[0m\u001b[1;33m\u001b[0m\u001b[1;33m\u001b[0m\u001b[0m\n",
      "\u001b[1;32m~\\.virtualenvs\\sign-language-recognition-yDKllbWB\\lib\\site-packages\\keras\\utils\\traceback_utils.py\u001b[0m in \u001b[0;36merror_handler\u001b[1;34m(*args, **kwargs)\u001b[0m\n\u001b[0;32m     65\u001b[0m     \u001b[1;32mexcept\u001b[0m \u001b[0mException\u001b[0m \u001b[1;32mas\u001b[0m \u001b[0me\u001b[0m\u001b[1;33m:\u001b[0m  \u001b[1;31m# pylint: disable=broad-except\u001b[0m\u001b[1;33m\u001b[0m\u001b[1;33m\u001b[0m\u001b[0m\n\u001b[0;32m     66\u001b[0m       \u001b[0mfiltered_tb\u001b[0m \u001b[1;33m=\u001b[0m \u001b[0m_process_traceback_frames\u001b[0m\u001b[1;33m(\u001b[0m\u001b[0me\u001b[0m\u001b[1;33m.\u001b[0m\u001b[0m__traceback__\u001b[0m\u001b[1;33m)\u001b[0m\u001b[1;33m\u001b[0m\u001b[1;33m\u001b[0m\u001b[0m\n\u001b[1;32m---> 67\u001b[1;33m       \u001b[1;32mraise\u001b[0m \u001b[0me\u001b[0m\u001b[1;33m.\u001b[0m\u001b[0mwith_traceback\u001b[0m\u001b[1;33m(\u001b[0m\u001b[0mfiltered_tb\u001b[0m\u001b[1;33m)\u001b[0m \u001b[1;32mfrom\u001b[0m \u001b[1;32mNone\u001b[0m\u001b[1;33m\u001b[0m\u001b[1;33m\u001b[0m\u001b[0m\n\u001b[0m\u001b[0;32m     68\u001b[0m     \u001b[1;32mfinally\u001b[0m\u001b[1;33m:\u001b[0m\u001b[1;33m\u001b[0m\u001b[1;33m\u001b[0m\u001b[0m\n\u001b[0;32m     69\u001b[0m       \u001b[1;32mdel\u001b[0m \u001b[0mfiltered_tb\u001b[0m\u001b[1;33m\u001b[0m\u001b[1;33m\u001b[0m\u001b[0m\n",
      "\u001b[1;32m~\\.virtualenvs\\sign-language-recognition-yDKllbWB\\lib\\site-packages\\keras\\engine\\input_spec.py\u001b[0m in \u001b[0;36massert_input_compatibility\u001b[1;34m(input_spec, inputs, layer_name)\u001b[0m\n\u001b[0;32m    211\u001b[0m       \u001b[0mndim\u001b[0m \u001b[1;33m=\u001b[0m \u001b[0mshape\u001b[0m\u001b[1;33m.\u001b[0m\u001b[0mrank\u001b[0m\u001b[1;33m\u001b[0m\u001b[1;33m\u001b[0m\u001b[0m\n\u001b[0;32m    212\u001b[0m       \u001b[1;32mif\u001b[0m \u001b[0mndim\u001b[0m \u001b[1;33m!=\u001b[0m \u001b[0mspec\u001b[0m\u001b[1;33m.\u001b[0m\u001b[0mndim\u001b[0m\u001b[1;33m:\u001b[0m\u001b[1;33m\u001b[0m\u001b[1;33m\u001b[0m\u001b[0m\n\u001b[1;32m--> 213\u001b[1;33m         raise ValueError(f'Input {input_index} of layer \"{layer_name}\" '\n\u001b[0m\u001b[0;32m    214\u001b[0m                          \u001b[1;34m'is incompatible with the layer: '\u001b[0m\u001b[1;33m\u001b[0m\u001b[1;33m\u001b[0m\u001b[0m\n\u001b[0;32m    215\u001b[0m                          \u001b[1;34mf'expected ndim={spec.ndim}, found ndim={ndim}. '\u001b[0m\u001b[1;33m\u001b[0m\u001b[1;33m\u001b[0m\u001b[0m\n",
      "\u001b[1;31mValueError\u001b[0m: Input 0 of layer \"lstm\" is incompatible with the layer: expected ndim=3, found ndim=2. Full shape received: (None, None)"
     ]
    }
   ],
   "source": [
    "model = Sequential()\n",
    "model.add(LSTM(64, return_sequences=True, activation='relu', input_shape=(None,)))\n",
    "model.add(LSTM(128, return_sequences=True, activation='relu'))\n",
    "model.add(LSTM(64, return_sequences=False, activation='relu'))\n",
    "model.add(Dense(64, activation='relu'))\n",
    "model.add(Dense(32, activation='relu'))\n",
    "model.add(Dense(len(actions), activation='softmax'))"
   ]
  },
  {
   "cell_type": "code",
   "execution_count": null,
   "metadata": {},
   "outputs": [],
   "source": [
    "model.compile(optimizer='Adam', loss='categorical_crossentropy', metrics=['categorical_accuracy'])\n"
   ]
  },
  {
   "cell_type": "code",
   "execution_count": null,
   "metadata": {},
   "outputs": [
    {
     "data": {
      "text/plain": [
       "array([[0.48374420404434204, 0.262046754360199, -0.4576481580734253, ...,\n",
       "        0.41880884766578674, 0.859227180480957, 0.004757392685860395],\n",
       "       [0.48357242345809937, 0.2620452344417572, -0.4547045826911926,\n",
       "        ..., 0.4126589894294739, 0.8444193005561829,\n",
       "        0.0015477888518944383],\n",
       "       [0.4834637939929962, 0.2621587812900543, -0.45647385716438293,\n",
       "        ..., 0.41081419587135315, 0.8098465800285339,\n",
       "        -0.002246046904474497],\n",
       "       ...,\n",
       "       [0.48675888776779175, 0.2694621682167053, -0.47501322627067566,\n",
       "        ..., 0.40656495094299316, 0.8064576387405396,\n",
       "        0.0035226342733949423],\n",
       "       [0.4866675138473511, 0.26937562227249146, -0.4676577150821686,\n",
       "        ..., 0.40597596764564514, 0.8050604462623596,\n",
       "        0.00306445243768394],\n",
       "       [0.4866397976875305, 0.2693217098712921, -0.46142250299453735,\n",
       "        ..., 0.4065544307231903, 0.805488109588623,\n",
       "        0.0030155156273394823]], dtype=object)"
      ]
     },
     "execution_count": 37,
     "metadata": {},
     "output_type": "execute_result"
    }
   ],
   "source": [
    "X_train[0]"
   ]
  },
  {
   "cell_type": "code",
   "execution_count": null,
   "metadata": {},
   "outputs": [
    {
     "ename": "ValueError",
     "evalue": "Failed to convert a NumPy array to a Tensor (Unsupported object type numpy.ndarray).",
     "output_type": "error",
     "traceback": [
      "\u001b[1;31m---------------------------------------------------------------------------\u001b[0m",
      "\u001b[1;31mValueError\u001b[0m                                Traceback (most recent call last)",
      "\u001b[1;32m~\\AppData\\Local\\Temp/ipykernel_23616/2208553981.py\u001b[0m in \u001b[0;36m<module>\u001b[1;34m\u001b[0m\n\u001b[1;32m----> 1\u001b[1;33m \u001b[0mmodel\u001b[0m\u001b[1;33m.\u001b[0m\u001b[0mfit\u001b[0m\u001b[1;33m(\u001b[0m\u001b[0mX_train\u001b[0m\u001b[1;33m,\u001b[0m \u001b[0my_train\u001b[0m\u001b[1;33m,\u001b[0m \u001b[0mepochs\u001b[0m\u001b[1;33m=\u001b[0m\u001b[1;36m2000\u001b[0m\u001b[1;33m,\u001b[0m \u001b[0mcallbacks\u001b[0m\u001b[1;33m=\u001b[0m\u001b[1;33m[\u001b[0m\u001b[0mtb_callback\u001b[0m\u001b[1;33m]\u001b[0m\u001b[1;33m)\u001b[0m\u001b[1;33m\u001b[0m\u001b[1;33m\u001b[0m\u001b[0m\n\u001b[0m",
      "\u001b[1;32m~\\.virtualenvs\\sign-language-recognition-yDKllbWB\\lib\\site-packages\\keras\\utils\\traceback_utils.py\u001b[0m in \u001b[0;36merror_handler\u001b[1;34m(*args, **kwargs)\u001b[0m\n\u001b[0;32m     65\u001b[0m     \u001b[1;32mexcept\u001b[0m \u001b[0mException\u001b[0m \u001b[1;32mas\u001b[0m \u001b[0me\u001b[0m\u001b[1;33m:\u001b[0m  \u001b[1;31m# pylint: disable=broad-except\u001b[0m\u001b[1;33m\u001b[0m\u001b[1;33m\u001b[0m\u001b[0m\n\u001b[0;32m     66\u001b[0m       \u001b[0mfiltered_tb\u001b[0m \u001b[1;33m=\u001b[0m \u001b[0m_process_traceback_frames\u001b[0m\u001b[1;33m(\u001b[0m\u001b[0me\u001b[0m\u001b[1;33m.\u001b[0m\u001b[0m__traceback__\u001b[0m\u001b[1;33m)\u001b[0m\u001b[1;33m\u001b[0m\u001b[1;33m\u001b[0m\u001b[0m\n\u001b[1;32m---> 67\u001b[1;33m       \u001b[1;32mraise\u001b[0m \u001b[0me\u001b[0m\u001b[1;33m.\u001b[0m\u001b[0mwith_traceback\u001b[0m\u001b[1;33m(\u001b[0m\u001b[0mfiltered_tb\u001b[0m\u001b[1;33m)\u001b[0m \u001b[1;32mfrom\u001b[0m \u001b[1;32mNone\u001b[0m\u001b[1;33m\u001b[0m\u001b[1;33m\u001b[0m\u001b[0m\n\u001b[0m\u001b[0;32m     68\u001b[0m     \u001b[1;32mfinally\u001b[0m\u001b[1;33m:\u001b[0m\u001b[1;33m\u001b[0m\u001b[1;33m\u001b[0m\u001b[0m\n\u001b[0;32m     69\u001b[0m       \u001b[1;32mdel\u001b[0m \u001b[0mfiltered_tb\u001b[0m\u001b[1;33m\u001b[0m\u001b[1;33m\u001b[0m\u001b[0m\n",
      "\u001b[1;32m~\\.virtualenvs\\sign-language-recognition-yDKllbWB\\lib\\site-packages\\tensorflow\\python\\framework\\constant_op.py\u001b[0m in \u001b[0;36mconvert_to_eager_tensor\u001b[1;34m(value, ctx, dtype)\u001b[0m\n\u001b[0;32m    104\u001b[0m       \u001b[0mdtype\u001b[0m \u001b[1;33m=\u001b[0m \u001b[0mdtypes\u001b[0m\u001b[1;33m.\u001b[0m\u001b[0mas_dtype\u001b[0m\u001b[1;33m(\u001b[0m\u001b[0mdtype\u001b[0m\u001b[1;33m)\u001b[0m\u001b[1;33m.\u001b[0m\u001b[0mas_datatype_enum\u001b[0m\u001b[1;33m\u001b[0m\u001b[1;33m\u001b[0m\u001b[0m\n\u001b[0;32m    105\u001b[0m   \u001b[0mctx\u001b[0m\u001b[1;33m.\u001b[0m\u001b[0mensure_initialized\u001b[0m\u001b[1;33m(\u001b[0m\u001b[1;33m)\u001b[0m\u001b[1;33m\u001b[0m\u001b[1;33m\u001b[0m\u001b[0m\n\u001b[1;32m--> 106\u001b[1;33m   \u001b[1;32mreturn\u001b[0m \u001b[0mops\u001b[0m\u001b[1;33m.\u001b[0m\u001b[0mEagerTensor\u001b[0m\u001b[1;33m(\u001b[0m\u001b[0mvalue\u001b[0m\u001b[1;33m,\u001b[0m \u001b[0mctx\u001b[0m\u001b[1;33m.\u001b[0m\u001b[0mdevice_name\u001b[0m\u001b[1;33m,\u001b[0m \u001b[0mdtype\u001b[0m\u001b[1;33m)\u001b[0m\u001b[1;33m\u001b[0m\u001b[1;33m\u001b[0m\u001b[0m\n\u001b[0m\u001b[0;32m    107\u001b[0m \u001b[1;33m\u001b[0m\u001b[0m\n\u001b[0;32m    108\u001b[0m \u001b[1;33m\u001b[0m\u001b[0m\n",
      "\u001b[1;31mValueError\u001b[0m: Failed to convert a NumPy array to a Tensor (Unsupported object type numpy.ndarray)."
     ]
    }
   ],
   "source": [
    "model.fit(X_train, y_train, epochs=2000, callbacks=[tb_callback])\n"
   ]
  },
  {
   "cell_type": "code",
   "execution_count": null,
   "metadata": {},
   "outputs": [],
   "source": [
    "model.summary()\n"
   ]
  }
 ],
 "metadata": {
  "interpreter": {
   "hash": "be66e9d497d9a1b72fd61438b8a315b2bb92e2ad9da9b0391a44981f8237f1f4"
  },
  "kernelspec": {
   "display_name": "Python 3.9.5 64-bit ('sign-language-recognition-yDKllbWB': pipenv)",
   "language": "python",
   "name": "python3"
  },
  "language_info": {
   "codemirror_mode": {
    "name": "ipython",
    "version": 3
   },
   "file_extension": ".py",
   "mimetype": "text/x-python",
   "name": "python",
   "nbconvert_exporter": "python",
   "pygments_lexer": "ipython3",
   "version": "3.9.5"
  },
  "orig_nbformat": 4
 },
 "nbformat": 4,
 "nbformat_minor": 2
}
